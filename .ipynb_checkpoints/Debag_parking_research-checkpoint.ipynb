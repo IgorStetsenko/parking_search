{
 "cells": [
  {
   "cell_type": "code",
   "execution_count": 41,
   "metadata": {},
   "outputs": [],
   "source": [
    "import cv2\n",
    "import numpy as np"
   ]
  },
  {
   "cell_type": "code",
   "execution_count": 42,
   "metadata": {},
   "outputs": [],
   "source": [
    "# cap = cv2.VideoCapture(0)\n",
    "# while True:\n",
    "#     ret, img = cap.read()\n",
    "#     cv2.imshow(\"camera\", img)\n",
    "#     cv2.imwrite('screen.jpg', img)\n",
    "#     if cv2.waitKey(10) == 27: # Клавиша Esc\n",
    "#         break\n",
    "# cap.release()\n",
    "# cv2.destroyAllWindows()"
   ]
  },
  {
   "cell_type": "code",
   "execution_count": 58,
   "metadata": {},
   "outputs": [],
   "source": [
    "prediction_boxes = [((745, 5), (866, 132)), ((956, 308), (1024, 408)), ((307, 52), (368, 114)), ((843, 8), (930, 81)), ((915, 141), (1024, 244)), ((637, 16), (725, 79)), ((1, 68), (78, 159)), ((773, 10), (865, 83)), ((854, 334), (1022, 498)), ((567, 20), (657, 86)), ((441, 27), (522, 96)), ((0, 246), (138, 374)), ((795, 133), (959, 231)), ((0, 411), (142, 564)), ((445, 155), (642, 314)), ((126, 230), (272, 358)), ((420, 361), (646, 529)), ((288, 374), (485, 538)), ((122, 370), (309, 549)), ((637, 157), (795, 266)), ((706, 345), (949, 513)), ((236, 223), (402, 347)), ((701, 132), (850, 237)), ((551, 337), (742, 481)), ((341, 189), (496, 309))]\n",
    "# prediction_boxes = [((745, 5), (866, 132)), ((307, 52), (368, 114))]"
   ]
  },
  {
   "cell_type": "code",
   "execution_count": 44,
   "metadata": {},
   "outputs": [
    {
     "data": {
      "text/plain": [
       "True"
      ]
     },
     "execution_count": 44,
     "metadata": {},
     "output_type": "execute_result"
    }
   ],
   "source": [
    "prediction_boxes == prediction_boxes"
   ]
  },
  {
   "cell_type": "code",
   "execution_count": 53,
   "metadata": {},
   "outputs": [],
   "source": [
    "pole = np.zeros((800, 1500, 3), np.uint8)\n",
    "num=0\n",
    "for i in prediction_boxes:\n",
    "    cv2.rectangle(pole, i[0],i[1], (255, 255, 255), thickness=5)\n",
    "    cv2.putText(pole, str(num), i[1], cv2.FONT_HERSHEY_SIMPLEX, 1, (255, 0, 255), 3, cv2.LINE_AA)\n",
    "    num+=1"
   ]
  },
  {
   "cell_type": "code",
   "execution_count": null,
   "metadata": {},
   "outputs": [],
   "source": []
  },
  {
   "cell_type": "code",
   "execution_count": 57,
   "metadata": {},
   "outputs": [],
   "source": [
    "cv2.namedWindow('Image', cv2.WINDOW_NORMAL)\n",
    "cv2.imshow(\"Image\", pole)\n",
    "cv2.waitKey(0)\n",
    "cv2.destroyAllWindows()"
   ]
  },
  {
   "cell_type": "code",
   "execution_count": 55,
   "metadata": {},
   "outputs": [],
   "source": [
    "def iou(box1, box2):\n",
    "    \"\"\"Функция рассчитывает метрику IoU и проверяет пересечение прямоугольников\"\"\"\n",
    "    flag = True\n",
    "    ax1, ay1, ax2, ay2 = box1[0][0], box1[1][0], box1[1][0], box1[1][1]  # box\n",
    "    bx1, by1, bx2, by2 = box1[0][0], box1[0][1], box1[1][0], box1[1][1] # box_rail_lines\n",
    "    if ax1 < bx2 and ax2 > bx1 and ay1 < by2 and ay2 > by1:\n",
    "        print(\"пересекаются\")\n",
    "    else:\n",
    "        print(\"не пересекаются\")\n",
    "#         sq_a = abs(ax1 - ax2) * abs(ay1 - ay2)\n",
    "#         sq_b = abs(bx1 - bx2) * abs(by1 - by2)\n",
    "#         interArea = abs(max([ax1, ax2]) - min([bx1, bx2])) * abs(max([ay1, ay2]) - min([by1, by2]))\n",
    "#         iou = interArea / float(abs(abs(sq_a + sq_b) - interArea))\n",
    "#         # print(box, iou,number_of_sector, '------------++')\n",
    "#         if iou > 0.07:\n",
    "#             flag = True\n",
    "#         elif iou <= 0.07:\n",
    "#             flag = False\n",
    "#     return flag"
   ]
  },
  {
   "cell_type": "code",
   "execution_count": 62,
   "metadata": {},
   "outputs": [
    {
     "data": {
      "text/plain": [
       "((956, 308), (1024, 408))"
      ]
     },
     "execution_count": 62,
     "metadata": {},
     "output_type": "execute_result"
    }
   ],
   "source": [
    "a1= prediction_boxes[1][1]\n",
    "prediction_boxes[1]"
   ]
  },
  {
   "cell_type": "code",
   "execution_count": 56,
   "metadata": {},
   "outputs": [
    {
     "name": "stdout",
     "output_type": "stream",
     "text": [
      "не пересекаются\n"
     ]
    }
   ],
   "source": [
    "iou(prediction_boxes[0], prediction_boxes[1])"
   ]
  },
  {
   "cell_type": "code",
   "execution_count": 64,
   "metadata": {},
   "outputs": [
    {
     "name": "stdout",
     "output_type": "stream",
     "text": [
      "((745, 5), (866, 132))\n",
      "не пересекаются\n",
      "((956, 308), (1024, 408))\n",
      "не пересекаются\n",
      "((307, 52), (368, 114))\n",
      "не пересекаются\n",
      "((843, 8), (930, 81))\n",
      "не пересекаются\n",
      "((915, 141), (1024, 244))\n",
      "не пересекаются\n",
      "((637, 16), (725, 79))\n",
      "не пересекаются\n",
      "((1, 68), (78, 159))\n",
      "пересекаются\n",
      "((773, 10), (865, 83))\n",
      "не пересекаются\n",
      "((854, 334), (1022, 498))\n",
      "не пересекаются\n",
      "((567, 20), (657, 86))\n",
      "не пересекаются\n",
      "((441, 27), (522, 96))\n",
      "не пересекаются\n",
      "((0, 246), (138, 374))\n",
      "пересекаются\n",
      "((795, 133), (959, 231))\n",
      "не пересекаются\n",
      "((0, 411), (142, 564))\n",
      "пересекаются\n",
      "((445, 155), (642, 314))\n",
      "не пересекаются\n",
      "((126, 230), (272, 358))\n",
      "пересекаются\n",
      "((420, 361), (646, 529))\n",
      "не пересекаются\n",
      "((288, 374), (485, 538))\n",
      "пересекаются\n",
      "((122, 370), (309, 549))\n",
      "пересекаются\n",
      "((637, 157), (795, 266))\n",
      "не пересекаются\n",
      "((706, 345), (949, 513))\n",
      "не пересекаются\n",
      "((236, 223), (402, 347))\n",
      "не пересекаются\n",
      "((701, 132), (850, 237))\n",
      "не пересекаются\n",
      "((551, 337), (742, 481))\n",
      "не пересекаются\n",
      "((341, 189), (496, 309))\n",
      "не пересекаются\n"
     ]
    }
   ],
   "source": [
    "num = 0\n",
    "for i in prediction_boxes:\n",
    "    print(i)\n",
    "    iou(i,i[num+1])"
   ]
  },
  {
   "cell_type": "code",
   "execution_count": 65,
   "metadata": {},
   "outputs": [
    {
     "name": "stdout",
     "output_type": "stream",
     "text": [
      "are a\n"
     ]
    }
   ],
   "source": [
    "В цикле сравнивать \"a[i]\" c \"a[i+1]\", пока i меньше длины масива - 1.\n",
    "На каждой итерации i+1."
   ]
  },
  {
   "cell_type": "code",
   "execution_count": 100,
   "metadata": {},
   "outputs": [],
   "source": [
    "l = [1,2,3,1]"
   ]
  },
  {
   "cell_type": "code",
   "execution_count": 101,
   "metadata": {},
   "outputs": [
    {
     "name": "stdout",
     "output_type": "stream",
     "text": [
      "False\n",
      "False\n",
      "True\n"
     ]
    }
   ],
   "source": [
    "i = 0\n",
    "j=0\n",
    "for n in l:\n",
    "    if i < len(l)-1:\n",
    "        while i < len(l)-1:\n",
    "            print(n == l[i+1])\n",
    "            i+=1"
   ]
  },
  {
   "cell_type": "code",
   "execution_count": null,
   "metadata": {},
   "outputs": [],
   "source": [
    "# l = [1,5,3,5]\n",
    "# j = 0\n",
    "# for n in l:\n",
    "#     i = l.index(n)\n",
    "#     if j == len(l)-1:\n",
    "#         break\n",
    "#     if i != len(l)-1:\n",
    "#         while i != len(l)-1:\n",
    "#             a = l[i+1]\n",
    "#             print(n == a, n, a)\n",
    "#             i+=1\n",
    "#         j+=1"
   ]
  },
  {
   "cell_type": "code",
   "execution_count": null,
   "metadata": {},
   "outputs": [],
   "source": []
  },
  {
   "cell_type": "code",
   "execution_count": null,
   "metadata": {},
   "outputs": [],
   "source": []
  },
  {
   "cell_type": "code",
   "execution_count": null,
   "metadata": {},
   "outputs": [],
   "source": []
  },
  {
   "cell_type": "code",
   "execution_count": null,
   "metadata": {},
   "outputs": [],
   "source": []
  },
  {
   "cell_type": "code",
   "execution_count": null,
   "metadata": {},
   "outputs": [],
   "source": []
  },
  {
   "cell_type": "code",
   "execution_count": null,
   "metadata": {},
   "outputs": [],
   "source": []
  },
  {
   "cell_type": "code",
   "execution_count": null,
   "metadata": {},
   "outputs": [],
   "source": []
  },
  {
   "cell_type": "code",
   "execution_count": null,
   "metadata": {},
   "outputs": [],
   "source": []
  },
  {
   "cell_type": "code",
   "execution_count": null,
   "metadata": {},
   "outputs": [],
   "source": []
  }
 ],
 "metadata": {
  "kernelspec": {
   "display_name": "Python 3",
   "language": "python",
   "name": "python3"
  },
  "language_info": {
   "codemirror_mode": {
    "name": "ipython",
    "version": 3
   },
   "file_extension": ".py",
   "mimetype": "text/x-python",
   "name": "python",
   "nbconvert_exporter": "python",
   "pygments_lexer": "ipython3",
   "version": "3.8.5"
  }
 },
 "nbformat": 4,
 "nbformat_minor": 4
}
