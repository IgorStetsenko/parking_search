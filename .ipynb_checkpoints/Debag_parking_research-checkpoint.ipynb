{
 "cells": [
  {
   "cell_type": "code",
   "execution_count": 4,
   "metadata": {},
   "outputs": [],
   "source": [
    "import cv2\n",
    "\n",
    "cap = cv2.VideoCapture(0)\n",
    "\n",
    "while True:\n",
    "    ret, img = cap.read()\n",
    "    cv2.imshow(\"camera\", img)\n",
    "    cv2.imwrite('screen.jpg', img)\n",
    "    if cv2.waitKey(10) == 27: # Клавиша Esc\n",
    "        break\n",
    "cap.release()\n",
    "cv2.destroyAllWindows()"
   ]
  },
  {
   "cell_type": "code",
   "execution_count": 3,
   "metadata": {},
   "outputs": [],
   "source": [
    "prediction_boxes = [((745, 5), (866, 132)), ((956, 308), (1024, 408)), ((307, 52), (368, 114)), ((843, 8), (930, 81)), ((915, 141), (1024, 244)), ((637, 16), (725, 79)), ((1, 68), (78, 159)), ((773, 10), (865, 83)), ((854, 334), (1022, 498)), ((567, 20), (657, 86)), ((441, 27), (522, 96)), ((0, 246), (138, 374)), ((795, 133), (959, 231)), ((0, 411), (142, 564)), ((445, 155), (642, 314)), ((126, 230), (272, 358)), ((420, 361), (646, 529)), ((288, 374), (485, 538)), ((122, 370), (309, 549)), ((637, 157), (795, 266)), ((706, 345), (949, 513)), ((236, 223), (402, 347)), ((701, 132), (850, 237)), ((551, 337), (742, 481)), ((341, 189), (496, 309))]"
   ]
  },
  {
   "cell_type": "code",
   "execution_count": 30,
   "metadata": {},
   "outputs": [],
   "source": [
    "def iou_control(box1, box2):\n",
    "    \"\"\"Функция рассчитывает метрику IoU и проверяет пересечение прямоугольников\"\"\"\n",
    "    flag = True\n",
    "    ax1, ay1, ax2, ay2 = box1[0][0], box1[1][0], box1[1][0], box1[1][1]  # box\n",
    "    bx1, by1, bx2, by2 = box1[0][0], box1[0][1], box1[1][0], box1[1][1] # box_rail_lines\n",
    "    if ax1 < bx2 and ax2 > bx1 and ay1 < by2 and ay2 > by1:\n",
    "        print(\"пересекаются\")\n",
    "#         sq_a = abs(ax1 - ax2) * abs(ay1 - ay2)\n",
    "#         sq_b = abs(bx1 - bx2) * abs(by1 - by2)\n",
    "#         interArea = abs(max([ax1, ax2]) - min([bx1, bx2])) * abs(max([ay1, ay2]) - min([by1, by2]))\n",
    "#         iou = interArea / float(abs(abs(sq_a + sq_b) - interArea))\n",
    "#         # print(box, iou,number_of_sector, '------------++')\n",
    "#         if iou > 0.07:\n",
    "#             flag = True\n",
    "#         elif iou <= 0.07:\n",
    "#             flag = False\n",
    "\n",
    "#     return flag"
   ]
  },
  {
   "cell_type": "code",
   "execution_count": 27,
   "metadata": {},
   "outputs": [
    {
     "data": {
      "text/plain": [
       "(956, 308)"
      ]
     },
     "execution_count": 27,
     "metadata": {},
     "output_type": "execute_result"
    }
   ],
   "source": [
    "a1= prediction_boxes[1][1]\n",
    "prediction_boxes[1][0]"
   ]
  },
  {
   "cell_type": "code",
   "execution_count": 31,
   "metadata": {},
   "outputs": [],
   "source": [
    "iou_control(prediction_boxes[1], prediction_boxes[2])"
   ]
  },
  {
   "cell_type": "code",
   "execution_count": null,
   "metadata": {},
   "outputs": [],
   "source": []
  }
 ],
 "metadata": {
  "kernelspec": {
   "display_name": "Python 3",
   "language": "python",
   "name": "python3"
  },
  "language_info": {
   "codemirror_mode": {
    "name": "ipython",
    "version": 3
   },
   "file_extension": ".py",
   "mimetype": "text/x-python",
   "name": "python",
   "nbconvert_exporter": "python",
   "pygments_lexer": "ipython3",
   "version": "3.6.9"
  }
 },
 "nbformat": 4,
 "nbformat_minor": 4
}
