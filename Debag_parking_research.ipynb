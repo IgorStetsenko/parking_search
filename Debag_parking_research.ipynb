{
 "cells": [
  {
   "cell_type": "code",
   "execution_count": 1,
   "metadata": {},
   "outputs": [],
   "source": [
    "import cv2\n",
    "import numpy as np"
   ]
  },
  {
   "cell_type": "code",
   "execution_count": 2,
   "metadata": {},
   "outputs": [],
   "source": [
    "# cap = cv2.VideoCapture(0)\n",
    "# while True:\n",
    "#     ret, img = cap.read()\n",
    "#     cv2.imshow(\"camera\", img)\n",
    "#     cv2.imwrite('screen.jpg', img)\n",
    "#     if cv2.waitKey(10) == 27: # Клавиша Esc\n",
    "#         break\n",
    "# cap.release()\n",
    "# cv2.destroyAllWindows()"
   ]
  },
  {
   "cell_type": "code",
   "execution_count": 11,
   "metadata": {},
   "outputs": [],
   "source": [
    "prediction_boxes = [((745, 5), (866, 132)), ((956, 308), (1024, 408)), ((307, 52), (368, 114)), ((843, 8), (930, 81)), ((915, 141), (1024, 244)), ((637, 16), (725, 79)), ((1, 68), (78, 159)), ((773, 10), (865, 83)), ((854, 334), (1022, 498)), ((567, 20), (657, 86)), ((441, 27), (522, 96)), ((0, 246), (138, 374)), ((795, 133), (959, 231)), ((0, 411), (142, 564)), ((445, 155), (642, 314)), ((126, 230), (272, 358)), ((420, 361), (646, 529)), ((288, 374), (485, 538)), ((122, 370), (309, 549)), ((637, 157), (795, 266)), ((706, 345), (949, 513)), ((236, 223), (402, 347)), ((701, 132), (850, 237)), ((551, 337), (742, 481)), ((341, 189), (496, 309))]\n",
    "# prediction_boxes = [((745, 5), (866, 132)), ((307, 52), (368, 114))]"
   ]
  },
  {
   "cell_type": "code",
   "execution_count": 4,
   "metadata": {},
   "outputs": [
    {
     "data": {
      "text/plain": [
       "True"
      ]
     },
     "execution_count": 4,
     "metadata": {},
     "output_type": "execute_result"
    }
   ],
   "source": [
    "prediction_boxes == prediction_boxes"
   ]
  },
  {
   "cell_type": "code",
   "execution_count": 5,
   "metadata": {},
   "outputs": [],
   "source": [
    "pole = np.zeros((800, 1500, 3), np.uint8)\n",
    "num=0\n",
    "for i in prediction_boxes:\n",
    "    cv2.rectangle(pole, i[0],i[1], (255, 255, 255), thickness=5)\n",
    "    cv2.putText(pole, str(num), i[1], cv2.FONT_HERSHEY_SIMPLEX, 1, (255, 0, 255), 3, cv2.LINE_AA)\n",
    "    num+=1"
   ]
  },
  {
   "cell_type": "code",
   "execution_count": null,
   "metadata": {},
   "outputs": [],
   "source": []
  },
  {
   "cell_type": "code",
   "execution_count": 6,
   "metadata": {},
   "outputs": [],
   "source": [
    "cv2.namedWindow('Image', cv2.WINDOW_NORMAL)\n",
    "cv2.imshow(\"Image\", pole)\n",
    "cv2.waitKey(0)\n",
    "cv2.destroyAllWindows()"
   ]
  },
  {
   "cell_type": "code",
   "execution_count": 30,
   "metadata": {},
   "outputs": [],
   "source": [
    "def iou(box1, box2):\n",
    "    \"\"\"Функция рассчитывает метрику IoU и проверяет пересечение прямоугольников\"\"\"\n",
    "    flag = True\n",
    "    ax1, ay1, ax2, ay2 = box1[0][0], box1[1][0], box1[1][0], box1[1][1]  # box\n",
    "    bx1, by1, bx2, by2 = box1[0][0], box1[0][1], box1[1][0], box1[1][1] # box_rail_lines\n",
    "    if ax1 < bx2 and ax2 > bx1 and ay1 < by2 and ay2 > by1:\n",
    "        print(\"пересекаются\")\n",
    "    else:\n",
    "        print(\"не пересекаются\")\n",
    "#         sq_a = abs(ax1 - ax2) * abs(ay1 - ay2)\n",
    "#         sq_b = abs(bx1 - bx2) * abs(by1 - by2)\n",
    "#         interArea = abs(max([ax1, ax2]) - min([bx1, bx2])) * abs(max([ay1, ay2]) - min([by1, by2]))\n",
    "#         iou = interArea / float(abs(abs(sq_a + sq_b) - interArea))\n",
    "#         # print(box, iou,number_of_sector, '------------++')\n",
    "#         if iou > 0.07:\n",
    "#             flag = True\n",
    "#         elif iou <= 0.07:\n",
    "#             flag = False\n",
    "#     return flag"
   ]
  },
  {
   "cell_type": "code",
   "execution_count": 8,
   "metadata": {},
   "outputs": [
    {
     "data": {
      "text/plain": [
       "((956, 308), (1024, 408))"
      ]
     },
     "execution_count": 8,
     "metadata": {},
     "output_type": "execute_result"
    }
   ],
   "source": [
    "a1= prediction_boxes[1][1]\n",
    "prediction_boxes[1]"
   ]
  },
  {
   "cell_type": "code",
   "execution_count": 9,
   "metadata": {},
   "outputs": [
    {
     "name": "stdout",
     "output_type": "stream",
     "text": [
      "не пересекаются\n"
     ]
    }
   ],
   "source": [
    "iou(prediction_boxes[0], prediction_boxes[1])"
   ]
  },
  {
   "cell_type": "code",
   "execution_count": 10,
   "metadata": {},
   "outputs": [
    {
     "name": "stdout",
     "output_type": "stream",
     "text": [
      "((745, 5), (866, 132))\n",
      "не пересекаются\n",
      "((956, 308), (1024, 408))\n",
      "не пересекаются\n",
      "((307, 52), (368, 114))\n",
      "не пересекаются\n",
      "((843, 8), (930, 81))\n",
      "не пересекаются\n",
      "((915, 141), (1024, 244))\n",
      "не пересекаются\n",
      "((637, 16), (725, 79))\n",
      "не пересекаются\n",
      "((1, 68), (78, 159))\n",
      "пересекаются\n",
      "((773, 10), (865, 83))\n",
      "не пересекаются\n",
      "((854, 334), (1022, 498))\n",
      "не пересекаются\n",
      "((567, 20), (657, 86))\n",
      "не пересекаются\n",
      "((441, 27), (522, 96))\n",
      "не пересекаются\n",
      "((0, 246), (138, 374))\n",
      "пересекаются\n",
      "((795, 133), (959, 231))\n",
      "не пересекаются\n",
      "((0, 411), (142, 564))\n",
      "пересекаются\n",
      "((445, 155), (642, 314))\n",
      "не пересекаются\n",
      "((126, 230), (272, 358))\n",
      "пересекаются\n",
      "((420, 361), (646, 529))\n",
      "не пересекаются\n",
      "((288, 374), (485, 538))\n",
      "пересекаются\n",
      "((122, 370), (309, 549))\n",
      "пересекаются\n",
      "((637, 157), (795, 266))\n",
      "не пересекаются\n",
      "((706, 345), (949, 513))\n",
      "не пересекаются\n",
      "((236, 223), (402, 347))\n",
      "не пересекаются\n",
      "((701, 132), (850, 237))\n",
      "не пересекаются\n",
      "((551, 337), (742, 481))\n",
      "не пересекаются\n",
      "((341, 189), (496, 309))\n",
      "не пересекаются\n"
     ]
    }
   ],
   "source": [
    "num = 0\n",
    "for i in prediction_boxes:\n",
    "    print(i)\n",
    "    iou(i,i[num+1])"
   ]
  },
  {
   "cell_type": "code",
   "execution_count": 65,
   "metadata": {},
   "outputs": [
    {
     "name": "stdout",
     "output_type": "stream",
     "text": [
      "are a\n"
     ]
    }
   ],
   "source": [
    "В цикле сравнивать \"a[i]\" c \"a[i+1]\", пока i меньше длины масива - 1.\n",
    "На каждой итерации i+1."
   ]
  },
  {
   "cell_type": "code",
   "execution_count": 100,
   "metadata": {},
   "outputs": [],
   "source": [
    "l = [1,2,3,1]"
   ]
  },
  {
   "cell_type": "code",
   "execution_count": 101,
   "metadata": {},
   "outputs": [
    {
     "name": "stdout",
     "output_type": "stream",
     "text": [
      "False\n",
      "False\n",
      "True\n"
     ]
    }
   ],
   "source": [
    "i = 0\n",
    "j=0\n",
    "for n in l:\n",
    "    if i < len(l)-1:\n",
    "        while i < len(l)-1:\n",
    "            print(n == l[i+1])\n",
    "            i+=1"
   ]
  },
  {
   "cell_type": "code",
   "execution_count": null,
   "metadata": {},
   "outputs": [],
   "source": [
    "l = [1,5,3,5]\n"
   ]
  },
  {
   "cell_type": "code",
   "execution_count": 19,
   "metadata": {},
   "outputs": [],
   "source": [
    "def boxes_intersection_search(prediction_boxes):\n",
    "    \"\"\"This function do boxes intersection search\"\"\"\n",
    "    j = 0\n",
    "    for n in prediction_boxes:\n",
    "        i = prediction_boxes.index(n)\n",
    "        if j == len(prediction_boxes)-1:\n",
    "            break\n",
    "        elif i != len(prediction_boxes)-1:\n",
    "            while i != len(prediction_boxes)-1:\n",
    "                a = prediction_boxes[i+1]\n",
    "                iou(n, a)\n",
    "#                 print(n == a, n, a)\n",
    "                i+=1\n",
    "            j+=1\n",
    "        else:\n",
    "            ('Error')\n",
    "        pass"
   ]
  },
  {
   "cell_type": "code",
   "execution_count": 20,
   "metadata": {},
   "outputs": [
    {
     "name": "stdout",
     "output_type": "stream",
     "text": [
      "не пересекаются\n",
      "не пересекаются\n",
      "не пересекаются\n",
      "не пересекаются\n",
      "не пересекаются\n",
      "не пересекаются\n",
      "не пересекаются\n",
      "не пересекаются\n",
      "не пересекаются\n",
      "не пересекаются\n",
      "не пересекаются\n",
      "не пересекаются\n",
      "не пересекаются\n",
      "не пересекаются\n",
      "не пересекаются\n",
      "не пересекаются\n",
      "не пересекаются\n",
      "не пересекаются\n",
      "не пересекаются\n",
      "не пересекаются\n",
      "не пересекаются\n",
      "не пересекаются\n",
      "не пересекаются\n",
      "не пересекаются\n",
      "не пересекаются\n",
      "не пересекаются\n",
      "не пересекаются\n",
      "не пересекаются\n",
      "не пересекаются\n",
      "не пересекаются\n",
      "не пересекаются\n",
      "не пересекаются\n",
      "не пересекаются\n",
      "не пересекаются\n",
      "не пересекаются\n",
      "не пересекаются\n",
      "не пересекаются\n",
      "не пересекаются\n",
      "не пересекаются\n",
      "не пересекаются\n",
      "не пересекаются\n",
      "не пересекаются\n",
      "не пересекаются\n",
      "не пересекаются\n",
      "не пересекаются\n",
      "не пересекаются\n",
      "не пересекаются\n",
      "не пересекаются\n",
      "не пересекаются\n",
      "не пересекаются\n",
      "не пересекаются\n",
      "не пересекаются\n",
      "не пересекаются\n",
      "не пересекаются\n",
      "не пересекаются\n",
      "не пересекаются\n",
      "не пересекаются\n",
      "не пересекаются\n",
      "не пересекаются\n",
      "не пересекаются\n",
      "не пересекаются\n",
      "не пересекаются\n",
      "не пересекаются\n",
      "не пересекаются\n",
      "не пересекаются\n",
      "не пересекаются\n",
      "не пересекаются\n",
      "не пересекаются\n",
      "не пересекаются\n",
      "не пересекаются\n",
      "не пересекаются\n",
      "не пересекаются\n",
      "не пересекаются\n",
      "не пересекаются\n",
      "не пересекаются\n",
      "не пересекаются\n",
      "не пересекаются\n",
      "не пересекаются\n",
      "не пересекаются\n",
      "не пересекаются\n",
      "не пересекаются\n",
      "не пересекаются\n",
      "не пересекаются\n",
      "не пересекаются\n",
      "не пересекаются\n",
      "не пересекаются\n",
      "не пересекаются\n",
      "не пересекаются\n",
      "не пересекаются\n",
      "не пересекаются\n",
      "не пересекаются\n",
      "не пересекаются\n",
      "не пересекаются\n",
      "не пересекаются\n",
      "не пересекаются\n",
      "не пересекаются\n",
      "не пересекаются\n",
      "не пересекаются\n",
      "не пересекаются\n",
      "не пересекаются\n",
      "не пересекаются\n",
      "не пересекаются\n",
      "не пересекаются\n",
      "не пересекаются\n",
      "не пересекаются\n",
      "не пересекаются\n",
      "не пересекаются\n",
      "не пересекаются\n",
      "не пересекаются\n",
      "не пересекаются\n",
      "не пересекаются\n",
      "не пересекаются\n",
      "не пересекаются\n",
      "не пересекаются\n",
      "не пересекаются\n",
      "не пересекаются\n",
      "не пересекаются\n",
      "не пересекаются\n",
      "не пересекаются\n",
      "не пересекаются\n",
      "не пересекаются\n",
      "не пересекаются\n",
      "не пересекаются\n",
      "не пересекаются\n",
      "не пересекаются\n",
      "не пересекаются\n",
      "не пересекаются\n",
      "не пересекаются\n",
      "не пересекаются\n",
      "пересекаются\n",
      "пересекаются\n",
      "пересекаются\n",
      "пересекаются\n",
      "пересекаются\n",
      "пересекаются\n",
      "пересекаются\n",
      "пересекаются\n",
      "пересекаются\n",
      "пересекаются\n",
      "пересекаются\n",
      "пересекаются\n",
      "пересекаются\n",
      "пересекаются\n",
      "пересекаются\n",
      "пересекаются\n",
      "пересекаются\n",
      "пересекаются\n",
      "не пересекаются\n",
      "не пересекаются\n",
      "не пересекаются\n",
      "не пересекаются\n",
      "не пересекаются\n",
      "не пересекаются\n",
      "не пересекаются\n",
      "не пересекаются\n",
      "не пересекаются\n",
      "не пересекаются\n",
      "не пересекаются\n",
      "не пересекаются\n",
      "не пересекаются\n",
      "не пересекаются\n",
      "не пересекаются\n",
      "не пересекаются\n",
      "не пересекаются\n",
      "не пересекаются\n",
      "не пересекаются\n",
      "не пересекаются\n",
      "не пересекаются\n",
      "не пересекаются\n",
      "не пересекаются\n",
      "не пересекаются\n",
      "не пересекаются\n",
      "не пересекаются\n",
      "не пересекаются\n",
      "не пересекаются\n",
      "не пересекаются\n",
      "не пересекаются\n",
      "не пересекаются\n",
      "не пересекаются\n",
      "не пересекаются\n",
      "не пересекаются\n",
      "не пересекаются\n",
      "не пересекаются\n",
      "не пересекаются\n",
      "не пересекаются\n",
      "не пересекаются\n",
      "не пересекаются\n",
      "не пересекаются\n",
      "не пересекаются\n",
      "не пересекаются\n",
      "не пересекаются\n",
      "не пересекаются\n",
      "не пересекаются\n",
      "не пересекаются\n",
      "не пересекаются\n",
      "не пересекаются\n",
      "не пересекаются\n",
      "не пересекаются\n",
      "не пересекаются\n",
      "не пересекаются\n",
      "не пересекаются\n",
      "не пересекаются\n",
      "не пересекаются\n",
      "не пересекаются\n",
      "не пересекаются\n",
      "не пересекаются\n",
      "не пересекаются\n",
      "не пересекаются\n",
      "не пересекаются\n",
      "пересекаются\n",
      "пересекаются\n",
      "пересекаются\n",
      "пересекаются\n",
      "пересекаются\n",
      "пересекаются\n",
      "пересекаются\n",
      "пересекаются\n",
      "пересекаются\n",
      "пересекаются\n",
      "пересекаются\n",
      "пересекаются\n",
      "пересекаются\n",
      "не пересекаются\n",
      "не пересекаются\n",
      "не пересекаются\n",
      "не пересекаются\n",
      "не пересекаются\n",
      "не пересекаются\n",
      "не пересекаются\n",
      "не пересекаются\n",
      "не пересекаются\n",
      "не пересекаются\n",
      "не пересекаются\n",
      "не пересекаются\n",
      "пересекаются\n",
      "пересекаются\n",
      "пересекаются\n",
      "пересекаются\n",
      "пересекаются\n",
      "пересекаются\n",
      "пересекаются\n",
      "пересекаются\n",
      "пересекаются\n",
      "пересекаются\n",
      "пересекаются\n",
      "не пересекаются\n",
      "не пересекаются\n",
      "не пересекаются\n",
      "не пересекаются\n",
      "не пересекаются\n",
      "не пересекаются\n",
      "не пересекаются\n",
      "не пересекаются\n",
      "не пересекаются\n",
      "не пересекаются\n",
      "пересекаются\n",
      "пересекаются\n",
      "пересекаются\n",
      "пересекаются\n",
      "пересекаются\n",
      "пересекаются\n",
      "пересекаются\n",
      "пересекаются\n",
      "пересекаются\n",
      "не пересекаются\n",
      "не пересекаются\n",
      "не пересекаются\n",
      "не пересекаются\n",
      "не пересекаются\n",
      "не пересекаются\n",
      "не пересекаются\n",
      "не пересекаются\n",
      "пересекаются\n",
      "пересекаются\n",
      "пересекаются\n",
      "пересекаются\n",
      "пересекаются\n",
      "пересекаются\n",
      "пересекаются\n",
      "пересекаются\n",
      "пересекаются\n",
      "пересекаются\n",
      "пересекаются\n",
      "пересекаются\n",
      "пересекаются\n",
      "не пересекаются\n",
      "не пересекаются\n",
      "не пересекаются\n",
      "не пересекаются\n",
      "не пересекаются\n",
      "не пересекаются\n",
      "не пересекаются\n",
      "не пересекаются\n",
      "не пересекаются\n",
      "не пересекаются\n",
      "не пересекаются\n",
      "не пересекаются\n",
      "не пересекаются\n",
      "не пересекаются\n",
      "не пересекаются\n"
     ]
    }
   ],
   "source": [
    "boxes_intersection_search(prediction_boxes)"
   ]
  },
  {
   "cell_type": "code",
   "execution_count": 35,
   "metadata": {},
   "outputs": [],
   "source": [
    "def iou_calculate(box1, box2):\n",
    "    \"\"\"Функция рассчитывает метрику IoU и проверяет пересечение прямоугольников\"\"\"\n",
    "    flag = False\n",
    "    ax1, ay1, ax2, ay2 = box1[0][0], box1[0][1], box1[1][0], box1[1][1]\n",
    "    bx1, by1, bx2, by2 = box2[0][0], box2[0][1], box2[1][0], box1[1][1]\n",
    "    if ax1 < bx2 and ax2 > bx1 and ay1 < by2 and ay2 > by1:\n",
    "        flag = True\n",
    "        sq_a = abs(ax1 - ax2) * abs(ay1 - ay2)\n",
    "        sq_b = abs(bx1 - bx2) * abs(by1 - by2)\n",
    "        interArea = abs(max([ax1, ax2]) - min([bx1, bx2])) * abs(max([ay1, ay2]) - min([by1, by2]))\n",
    "        iou = interArea / float(abs(abs(sq_a + sq_b) - interArea))\n",
    "        return iou, flag\n",
    "    else:\n",
    "        flag = False\n",
    "        return flag"
   ]
  },
  {
   "cell_type": "code",
   "execution_count": 36,
   "metadata": {},
   "outputs": [],
   "source": [
    "prediction_boxes = [((745, 5), (866, 132)), ((956, 308), (1024, 408)), ((307, 52), (368, 114)), ((843, 8), (930, 81)), ((915, 141), (1024, 244)), ((637, 16), (725, 79)), ((1, 68), (78, 159)), ((773, 10), (865, 83)), ((854, 334), (1022, 498)), ((567, 20), (657, 86)), ((441, 27), (522, 96)), ((0, 246), (138, 374)), ((795, 133), (959, 231)), ((0, 411), (142, 564)), ((445, 155), (642, 314)), ((126, 230), (272, 358)), ((420, 361), (646, 529)), ((288, 374), (485, 538)), ((122, 370), (309, 549)), ((637, 157), (795, 266)), ((706, 345), (949, 513)), ((236, 223), (402, 347)), ((701, 132), (850, 237)), ((551, 337), (742, 481)), ((341, 189), (496, 309))]\n",
    "temp_parking_seat = prediction_boxes.copy()"
   ]
  },
  {
   "cell_type": "code",
   "execution_count": 41,
   "metadata": {},
   "outputs": [
    {
     "name": "stdout",
     "output_type": "stream",
     "text": [
      "(1.0, True)\n",
      "(1.0, True)\n",
      "(1.0, True)\n",
      "(1.0, True)\n",
      "(1.0, True)\n",
      "(1.0, True)\n",
      "(1.0, True)\n",
      "(1.0, True)\n",
      "(1.0, True)\n",
      "(1.0, True)\n",
      "(1.0, True)\n",
      "(1.0, True)\n",
      "(1.0, True)\n",
      "(1.0, True)\n",
      "(1.0, True)\n",
      "(1.0, True)\n",
      "(1.0, True)\n",
      "(1.0, True)\n",
      "(1.0, True)\n",
      "(1.0, True)\n",
      "(1.0, True)\n",
      "(1.0, True)\n",
      "(1.0, True)\n",
      "(1.0, True)\n",
      "(1.0, True)\n"
     ]
    }
   ],
   "source": [
    "number_box=0\n",
    "for box_original in prediction_boxes:\n",
    "#     print(temp_parking_seat[number_box],number_box, '----')\n",
    "#     print(box_original,number_box, '---+')\n",
    "    print(iou_calculate(box_original, temp_parking_seat[number_box]))\n",
    "    number_box+=1"
   ]
  },
  {
   "cell_type": "code",
   "execution_count": 20,
   "metadata": {},
   "outputs": [
    {
     "data": {
      "text/plain": [
       "tuple"
      ]
     },
     "execution_count": 20,
     "metadata": {},
     "output_type": "execute_result"
    }
   ],
   "source": [
    "type(prediction_boxes[0])"
   ]
  },
  {
   "cell_type": "code",
   "execution_count": 52,
   "metadata": {},
   "outputs": [
    {
     "name": "stdout",
     "output_type": "stream",
     "text": [
      "Debag_parking_research.ipynb  README.md  search.py  yolov5s.pt\r\n",
      "main.py                       \u001b[0m\u001b[01;34mruns\u001b[0m/      \u001b[01;34myolov5\u001b[0m/\r\n"
     ]
    }
   ],
   "source": [
    "ls"
   ]
  },
  {
   "cell_type": "code",
   "execution_count": 2,
   "metadata": {},
   "outputs": [],
   "source": [
    "import numpy as np"
   ]
  },
  {
   "cell_type": "code",
   "execution_count": 43,
   "metadata": {},
   "outputs": [],
   "source": [
    "m = np.array([[1,0,0],[0,0,0],[0,0,0]])"
   ]
  },
  {
   "cell_type": "code",
   "execution_count": 44,
   "metadata": {},
   "outputs": [
    {
     "data": {
      "text/plain": [
       "(3, 3)"
      ]
     },
     "execution_count": 44,
     "metadata": {},
     "output_type": "execute_result"
    }
   ],
   "source": [
    "m.shape"
   ]
  },
  {
   "cell_type": "code",
   "execution_count": 45,
   "metadata": {},
   "outputs": [
    {
     "data": {
      "text/plain": [
       "array([[1, 0, 0],\n",
       "       [0, 0, 0],\n",
       "       [0, 0, 0]])"
      ]
     },
     "execution_count": 45,
     "metadata": {},
     "output_type": "execute_result"
    }
   ],
   "source": [
    "m"
   ]
  },
  {
   "cell_type": "code",
   "execution_count": 46,
   "metadata": {},
   "outputs": [],
   "source": [
    "n = np.zeros([3,3])"
   ]
  },
  {
   "cell_type": "code",
   "execution_count": 47,
   "metadata": {},
   "outputs": [
    {
     "data": {
      "text/plain": [
       "array([[0., 0., 0.],\n",
       "       [0., 0., 0.],\n",
       "       [0., 0., 0.]])"
      ]
     },
     "execution_count": 47,
     "metadata": {},
     "output_type": "execute_result"
    }
   ],
   "source": [
    "n"
   ]
  },
  {
   "cell_type": "code",
   "execution_count": 48,
   "metadata": {},
   "outputs": [],
   "source": [
    "x= (n == m).all"
   ]
  },
  {
   "cell_type": "code",
   "execution_count": 49,
   "metadata": {},
   "outputs": [
    {
     "data": {
      "text/plain": [
       "False"
      ]
     },
     "execution_count": 49,
     "metadata": {},
     "output_type": "execute_result"
    }
   ],
   "source": [
    "np.array_equal(m, n)"
   ]
  },
  {
   "cell_type": "code",
   "execution_count": 1,
   "metadata": {},
   "outputs": [
    {
     "name": "stdout",
     "output_type": "stream",
     "text": [
      "\u001b[0m\u001b[01;35m1.jpg\u001b[0m                         detection_move.py  run_camera.py       te.py\r\n",
      "camera_bot.py                 main.py            run_recognition.py  \u001b[01;34myolov5\u001b[0m/\r\n",
      "data_calculate.py             \u001b[01;34m__pycache__\u001b[0m/       \u001b[01;34mruns\u001b[0m/               yolov5s.pt\r\n",
      "Debag_parking_research.ipynb  README.md          sms.py\r\n"
     ]
    }
   ],
   "source": [
    "ls"
   ]
  },
  {
   "cell_type": "code",
   "execution_count": 25,
   "metadata": {},
   "outputs": [],
   "source": [
    "import cv2\n",
    "import numpy as np"
   ]
  },
  {
   "cell_type": "code",
   "execution_count": 18,
   "metadata": {},
   "outputs": [],
   "source": [
    "img = cv2.imread(\"1.jpg\")"
   ]
  },
  {
   "cell_type": "code",
   "execution_count": 19,
   "metadata": {},
   "outputs": [
    {
     "data": {
      "text/plain": [
       "(520, 720, 3)"
      ]
     },
     "execution_count": 19,
     "metadata": {},
     "output_type": "execute_result"
    }
   ],
   "source": [
    "img.shape"
   ]
  },
  {
   "cell_type": "code",
   "execution_count": 10,
   "metadata": {},
   "outputs": [],
   "source": [
    "img = img[200:960,0:720]"
   ]
  },
  {
   "cell_type": "code",
   "execution_count": 20,
   "metadata": {},
   "outputs": [],
   "source": [
    "cv2.namedWindow('Image', cv2.WINDOW_NORMAL)\n",
    "cv2.imshow(\"Image\", img)\n",
    "cv2.waitKey(0)\n",
    "cv2.destroyAllWindows()"
   ]
  },
  {
   "cell_type": "code",
   "execution_count": null,
   "metadata": {},
   "outputs": [],
   "source": []
  },
  {
   "cell_type": "code",
   "execution_count": 33,
   "metadata": {},
   "outputs": [],
   "source": [
    "a = [((251, 134), (298, 180)), \n",
    " ((95, 192), (201, 293)), \n",
    " ((13, 196), (53, 272)), \n",
    " ((649, 241), (713, 298)), \n",
    " ((100, 100), (150, 150))]"
   ]
  },
  {
   "cell_type": "code",
   "execution_count": 27,
   "metadata": {},
   "outputs": [],
   "source": [
    "b = [((251, 134), (298, 180)), \n",
    " ((95, 192), (201, 293)), \n",
    " ((13, 196), (53, 272))]"
   ]
  },
  {
   "cell_type": "code",
   "execution_count": 28,
   "metadata": {},
   "outputs": [],
   "source": [
    "a = np.array(a)\n",
    "b = np.array(b)"
   ]
  },
  {
   "cell_type": "code",
   "execution_count": 31,
   "metadata": {},
   "outputs": [
    {
     "name": "stderr",
     "output_type": "stream",
     "text": [
      "<ipython-input-31-921c56654c29>:1: DeprecationWarning: elementwise comparison failed; this will raise an error in the future.\n",
      "  c = a == b\n"
     ]
    }
   ],
   "source": [
    "\n"
   ]
  },
  {
   "cell_type": "code",
   "execution_count": 34,
   "metadata": {},
   "outputs": [],
   "source": [
    "a.remove(((251, 134), (298, 180)))"
   ]
  },
  {
   "cell_type": "code",
   "execution_count": 35,
   "metadata": {},
   "outputs": [
    {
     "data": {
      "text/plain": [
       "[((95, 192), (201, 293)),\n",
       " ((13, 196), (53, 272)),\n",
       " ((649, 241), (713, 298)),\n",
       " ((100, 100), (150, 150))]"
      ]
     },
     "execution_count": 35,
     "metadata": {},
     "output_type": "execute_result"
    }
   ],
   "source": [
    "a"
   ]
  },
  {
   "cell_type": "code",
   "execution_count": null,
   "metadata": {},
   "outputs": [],
   "source": []
  },
  {
   "cell_type": "code",
   "execution_count": null,
   "metadata": {},
   "outputs": [],
   "source": []
  }
 ],
 "metadata": {
  "kernelspec": {
   "display_name": "Python 3",
   "language": "python",
   "name": "python3"
  },
  "language_info": {
   "codemirror_mode": {
    "name": "ipython",
    "version": 3
   },
   "file_extension": ".py",
   "mimetype": "text/x-python",
   "name": "python",
   "nbconvert_exporter": "python",
   "pygments_lexer": "ipython3",
   "version": "3.8.10"
  }
 },
 "nbformat": 4,
 "nbformat_minor": 4
}
